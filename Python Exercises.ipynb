{
 "cells": [
  {
   "cell_type": "markdown",
   "id": "b7ddd709",
   "metadata": {},
   "source": [
    "<h2 align = 'center'> <font color = '000000'>Python Exercises : Source - [genepy.org](https://genepy.org/exercises/)</h2>"
   ]
  },
  {
   "cell_type": "markdown",
   "id": "e0fc47ee",
   "metadata": {},
   "source": [
    "Write a Python program displaying the number of seconds in 365 days."
   ]
  },
  {
   "cell_type": "code",
   "execution_count": null,
   "id": "daac407b",
   "metadata": {},
   "outputs": [],
   "source": [
    "class seconds_in_365_days:\n",
    "    def days_to_hours(self, days=365):\n",
    "        return days * 24\n",
    "\n",
    "    def hours_to_minutes(self, days_to_hours):\n",
    "        return days_to_hours * 60\n",
    "    \n",
    "    def minutes_to_seconds(self, hours_to_minutes):\n",
    "        return hours_to_minutes * 60\n",
    "\n",
    "seconds_in_365_days.minutes_to_seconds\n",
    "print(seconds_in_365_days().minutes_to_seconds(seconds_in_365_days().hours_to_minutes(seconds_in_365_days().days_to_hours())))"
   ]
  },
  {
   "cell_type": "markdown",
   "id": "da576aa0",
   "metadata": {},
   "source": [
    "Write a Python script that prints the result for 8958937768937 divided by 2851718461558."
   ]
  },
  {
   "cell_type": "code",
   "execution_count": null,
   "id": "7c475a9f",
   "metadata": {},
   "outputs": [],
   "source": [
    "def division(a,b):\n",
    "    '''Function to perform division of two numbers'''\n",
    "    return a / b\n",
    "\n",
    "print(division(8958937768937, 2851718461558))"
   ]
  },
  {
   "cell_type": "markdown",
   "id": "f40950fe",
   "metadata": {},
   "source": [
    "Print the number of characters in the following paragraph:\n",
    "\n",
    "<p>Python is an easy to learn, powerful\n",
    "programming language. It has efficient high-level data structures and\n",
    "a simple but effective approach to object-oriented\n",
    "programming. Python’s elegant syntax and dynamic typing, together with\n",
    "its interpreted nature, make it an ideal language for scripting and\n",
    "rapid application development in many areas on most platforms.</p>"
   ]
  },
  {
   "cell_type": "code",
   "execution_count": null,
   "id": "f61164a7",
   "metadata": {},
   "outputs": [],
   "source": [
    "whetting_your_appetite = \"\"\"Python is an easy to learn, powerful\n",
    "programming language. It has efficient high-level data structures and\n",
    "a simple but effective approach to object-oriented\n",
    "programming. Python’s elegant syntax and dynamic typing, together with\n",
    "its interpreted nature, make it an ideal language for scripting and\n",
    "rapid application development in many areas on most platforms.\"\"\"\n",
    "\n",
    "print(len(whetting_your_appetite))"
   ]
  },
  {
   "cell_type": "markdown",
   "id": "a0259318",
   "metadata": {},
   "source": [
    "Print the 10 first square number, one per line.\n",
    "\n",
    "Start at 0, so the first square number is 02, followed by 12, 22, and so on up to 92."
   ]
  },
  {
   "cell_type": "code",
   "execution_count": null,
   "id": "8d386d62",
   "metadata": {},
   "outputs": [],
   "source": [
    "n = [0, 1, 2, 3, 4, 5, 6, 7, 8, 9]\n",
    "\n",
    "def square_numbers():\n",
    "    for i in n:\n",
    "        print(i ** 2)\n",
    "\n",
    "square_numbers()"
   ]
  },
  {
   "cell_type": "markdown",
   "id": "89f78345",
   "metadata": {},
   "source": [
    "Print the 10 first powers of two, one per line. (beware: not the first squares!)\n",
    "\n",
    "Start at 0, so the first power of two is 20 (which happen to be one), followed by 21, 22, and so on up to 29."
   ]
  },
  {
   "cell_type": "code",
   "execution_count": null,
   "id": "4df8492c",
   "metadata": {},
   "outputs": [],
   "source": [
    "n = [0, 1, 2, 3, 4, 5, 6, 7, 8, 9]\n",
    "\n",
    "def power_of_two(n):\n",
    "    for i in n:\n",
    "        print(2 ** i)\n",
    "\n",
    "power_of_two(n)"
   ]
  },
  {
   "cell_type": "markdown",
   "id": "650dc51b",
   "metadata": {},
   "source": [
    "Write a function printing every even numbers in the given range, one number per line."
   ]
  },
  {
   "cell_type": "code",
   "execution_count": null,
   "id": "7593bb6a",
   "metadata": {},
   "outputs": [],
   "source": [
    "def print_even_numbers(start, stop):\n",
    "    for i in range(start, stop):\n",
    "        if i % 2 == 0:\n",
    "            print(i)"
   ]
  },
  {
   "cell_type": "markdown",
   "id": "266eea86",
   "metadata": {},
   "source": [
    "Provide a script that prints the sum of every even numbers in the range [0; 100]"
   ]
  },
  {
   "cell_type": "code",
   "execution_count": null,
   "id": "657b843d",
   "metadata": {},
   "outputs": [],
   "source": [
    "class sum_of_even_numbers:\n",
    "    \n",
    "    def even_numbers_sum(a,b):\n",
    "        number_list = []\n",
    "\n",
    "        for i in range(a,b):\n",
    "            if i %2 == 0:\n",
    "                number_list.append(i)\n",
    "        print(sum(number_list))\n",
    "        \n",
    "sum_of_even_numbers.even_numbers_sum(0, 101)"
   ]
  },
  {
   "cell_type": "markdown",
   "id": "f16568cb",
   "metadata": {},
   "source": [
    "Write a program that finds the sum of all natural numbers below 1000 (< 1000) that are multiples of 3 or 5, and prints it.\n",
    "\n",
    "If we list all the natural numbers below 20 (<20) that are multiples of 3 or 5, we get 3, 5, 6, 9, 10, 12, 15, 18. The sum of these multiples is 78.\n",
    "\n",
    "Note that 15 is only counted once."
   ]
  },
  {
   "cell_type": "code",
   "execution_count": null,
   "id": "ca875a6c",
   "metadata": {},
   "outputs": [],
   "source": [
    "def multiple(a,b):\n",
    "        multiple_list = []\n",
    "\n",
    "        for i in range(a,b):\n",
    "            if i % 3 == 0 or i % 5 ==0:\n",
    "                multiple_list.append(i)\n",
    "        return sum(multiple_list)\n",
    "\n",
    "print(multiple(1,1000))"
   ]
  }
 ],
 "metadata": {
  "kernelspec": {
   "display_name": "Python 3",
   "language": "python",
   "name": "python3"
  },
  "language_info": {
   "codemirror_mode": {
    "name": "ipython",
    "version": 3
   },
   "file_extension": ".py",
   "mimetype": "text/x-python",
   "name": "python",
   "nbconvert_exporter": "python",
   "pygments_lexer": "ipython3",
   "version": "3.12.3"
  }
 },
 "nbformat": 4,
 "nbformat_minor": 5
}
